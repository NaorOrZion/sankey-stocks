{
 "cells": [
  {
   "cell_type": "code",
   "execution_count": 5,
   "id": "e6b753a6-40cb-4574-9e40-aeaad48f36eb",
   "metadata": {},
   "outputs": [
    {
     "data": {
      "application/vnd.jupyter.widget-view+json": {
       "model_id": "98b4dfc109834044a1c373f44058ee8e",
       "version_major": 2,
       "version_minor": 0
      },
      "text/plain": [
       "SankeyWidget(groups=[{'id': 'embark_port', 'type': 'process', 'title': '', 'nodes': ['embark_port^AKL', 'embar…"
      ]
     },
     "execution_count": 5,
     "metadata": {},
     "output_type": "execute_result"
    }
   ],
   "source": [
    "import pandas as pd\n",
    "from floweaver import *\n",
    "\n",
    "\"\"\"\n",
    "floWeaver uses different columns for different purposes based on their names.\n",
    "Specifically,\n",
    "\n",
    "source:         specifies where the flow starts\n",
    "target:         specifies where the flow ends\n",
    "type:           specifies the type of the flow\n",
    "value:          specifies the flow rate\n",
    "\n",
    "Thus, we will rename some columns so that they fit floWeaver’s format.\n",
    "We will use:\n",
    "\n",
    "EMBARK_PORT:    as source\n",
    "DISEMBARK_PORT: as target\n",
    "CRUISE_REGION:  as type\n",
    "PRICE_PAID:     as value\n",
    "\"\"\"\n",
    "\n",
    "df = pd.read_csv(\"WorldCruiseData.csv\")\n",
    "\n",
    "flows = (\n",
    "    df.groupby([\"EMBARK_PORT\", \"DISEMBARK_PORT\", \"CRUISE_REGION\"])\n",
    "    .agg({\"PRICE_PAID\": \"mean\"})\n",
    "    .dropna()\n",
    "    .reset_index()\n",
    ")\n",
    "\n",
    "flows = (\n",
    "    flows.rename(\n",
    "        columns={\n",
    "            \"EMBARK_PORT\": \"source\",\n",
    "            \"DISEMBARK_PORT\": \"target\",\n",
    "            \"CRUISE_REGION\": \"type\",\n",
    "            \"PRICE_PAID\": \"value\",\n",
    "        }\n",
    "    )\n",
    ")\n",
    "\n",
    "nodes = {\n",
    "    \"embark_port\": ProcessGroup(flows[\"source\"].unique().tolist()),\n",
    "    \"disembark_port\": ProcessGroup(flows[\"target\"].unique().tolist()),\n",
    "}\n",
    "\n",
    "ordering = [[\"embark_port\"], [\"disembark_port\"]]\n",
    "bundles = [Bundle(\"embark_port\", \"disembark_port\")]\n",
    "sdd = SankeyDefinition(nodes, bundles, ordering)\n",
    "\n",
    "# Create partitions for each type of port\n",
    "embark_port = Partition.Simple(\"process\", flows[\"source\"].unique().tolist())\n",
    "disembark_port = Partition.Simple(\"process\", flows[\"target\"].unique().tolist())\n",
    "\n",
    "nodes[\"embark_port\"].partition = embark_port\n",
    "nodes[\"disembark_port\"].partition = disembark_port\n",
    "\n",
    "\"\"\"\n",
    "In the diagram:\n",
    "\n",
    "The nodes on the left represent different embark ports.\n",
    "The nodes on the right represent different disembark ports.\n",
    "The line shows the travel path of the cruise from one port to another port.\n",
    "The thicker a line is, the more expensive the trip is.\n",
    "\"\"\"\n",
    "\n",
    "# Create Sankey diagram\n",
    "weave(sdd, flows, link_color=QuantitativeScale(\"value\")).to_widget()"
   ]
  },
  {
   "cell_type": "code",
   "execution_count": null,
   "id": "a7234a73-6f7b-4ee9-a6f7-959131ed035e",
   "metadata": {},
   "outputs": [],
   "source": []
  }
 ],
 "metadata": {
  "kernelspec": {
   "display_name": "Python 3 (ipykernel)",
   "language": "python",
   "name": "python3"
  },
  "language_info": {
   "codemirror_mode": {
    "name": "ipython",
    "version": 3
   },
   "file_extension": ".py",
   "mimetype": "text/x-python",
   "name": "python",
   "nbconvert_exporter": "python",
   "pygments_lexer": "ipython3",
   "version": "3.11.4"
  }
 },
 "nbformat": 4,
 "nbformat_minor": 5
}
